{
  "cells": [
    {
      "cell_type": "markdown",
      "metadata": {
        "id": "aaaaaaaaaa"
      },
      "source": [
        "Git clone the repo and install the requirements. (ignore the pip errors about protobuf)"
      ]
    },
    {
      "cell_type": "code",
      "execution_count": null,
      "metadata": {
        "id": "bbbbbbbbbb"
      },
      "outputs": [],
      "source": [
        "#@title Environment Setup\n",
        "\n",
        "from pathlib import Path\n",
        "\n",
        "OPTIONS = {}\n",
        "\n",
        "USE_GOOGLE_DRIVE = False  #@param {type:\"boolean\"}\n",
        "UPDATE_COMFY = True  #@param {type:\"boolean\"}\n",
        "WORKSPACE = 'Comfy'\n",
        "OPTIONS['USE_GOOGLE_DRIVE'] = USE_GOOGLE_DRIVE\n",
        "OPTIONS['UPDATE_COMFY'] = UPDATE_COMFY\n",
        "\n",
        "if OPTIONS['USE_GOOGLE_DRIVE']:\n",
        "    !echo \"Mounting Google Drive...\"\n",
        "    %cd /\n",
        "\n",
        "    from google.colab import drive\n",
        "    drive.mount('/content/drive')\n",
        "\n",
        "    WORKSPACE = \"/content/drive/MyDrive/Comfy\"\n",
        "    %cd /content/drive/MyDrive\n",
        "\n",
        "![ ! -d $WORKSPACE ] && echo -= Initial setup Comfy =- && git clone https://github.com/zhuoyueai/Comfy\n",
        "%cd $WORKSPACE\n",
        "\n",
        "if OPTIONS['UPDATE_COMFY']:\n",
        "  !echo -= Updating Comfy =-\n",
        "  !git pull\n",
        "\n",
        "!echo -= Install dependencies =-\n",
        "!pip install xformers==0.0.20 -r requirements.txt --extra-index-url https://download.pytorch.org/whl/cu118 --extra-index-url https://download.pytorch.org/whl/cu118 --extra-index-url https://download.pytorch.org/whl/cu117"
      ]
    },
    {
      "cell_type": "markdown",
      "metadata": {
        "id": "cccccccccc"
      },
      "source": [
        "Download some models/checkpoints/vae or custom comfy nodes (uncomment the commands for the ones you want)"
      ]
    },
    {
      "cell_type": "code",
      "execution_count": null,
      "metadata": {
        "id": "dddddddddd"
      },
      "outputs": [],
      "source": [
        "!wget -c https://huggingface.co/stabilityai/stable-diffusion-xl-base-1.0/resolve/main/sd_xl_base_1.0.safetensors -P ./models/checkpoints/\n",
        "!wget -c https://huggingface.co/zhuoyueai/zhuoyueaixl/resolve/main/zhuoyueaiXL_lora_upscale-000008.safetensors -P ./models/loras/\n",
        "!wget -c https://huggingface.co/zhuoyueai/zhuoyueaixl/resolve/main/yuzhaiaiXL_lora_upscale-000008.safetensors -P ./models/loras/"
      ]
    },
    {
      "cell_type": "markdown",
      "metadata": {
        "id": "kkkkkkkkkkkkkkk"
      },
      "source": [
        "### Run Comfy with cloudflared (Recommended Way)\n",
        "\n",
        "\n"
      ]
    },
    {
      "cell_type": "code",
      "execution_count": 4,
      "metadata": {
        "id": "jjjjjjjjjjjjjj"
      },
      "outputs": [],
      "source": [
        "# !wget https://github.com/cloudflare/cloudflared/releases/latest/download/cloudflared-linux-amd64.deb\n",
        "# !dpkg -i cloudflared-linux-amd64.deb\n",
        "\n",
        "# import subprocess\n",
        "# import threading\n",
        "# import time\n",
        "# import socket\n",
        "# import urllib.request\n",
        "\n",
        "# def iframe_thread(port):\n",
        "#   while True:\n",
        "#       time.sleep(0.5)\n",
        "#       sock = socket.socket(socket.AF_INET, socket.SOCK_STREAM)\n",
        "#       result = sock.connect_ex(('127.0.0.1', port))\n",
        "#       if result == 0:\n",
        "#         break\n",
        "#       sock.close()\n",
        "#   print(\"\\nComfy finished loading, trying to launch cloudflared (if it gets stuck here cloudflared is having issues)\\n\")\n",
        "\n",
        "#   p = subprocess.Popen([\"cloudflared\", \"tunnel\", \"--url\", \"http://127.0.0.1:{}\".format(port)], stdout=subprocess.PIPE, stderr=subprocess.PIPE)\n",
        "#   for line in p.stderr:\n",
        "#     l = line.decode()\n",
        "#     if \"trycloudflare.com \" in l:\n",
        "#       print(\"This is the URL to access Comfy:\", l[l.find(\"http\"):], end='')\n",
        "#     #print(l, end='')\n",
        "\n",
        "\n",
        "# threading.Thread(target=iframe_thread, daemon=True, args=(8188,)).start()\n",
        "\n",
        "# !python main.py --dont-print-server"
      ]
    },
    {
      "cell_type": "markdown",
      "metadata": {
        "id": "kkkkkkkkkkkkkk"
      },
      "source": [
        "### Run Comfy with localtunnel\n",
        "\n",
        "> Indented block\n",
        "\n",
        "\n",
        "\n",
        "\n"
      ]
    },
    {
      "cell_type": "code",
      "execution_count": null,
      "metadata": {
        "id": "jjjjjjjjjjjjj"
      },
      "outputs": [],
      "source": [
        "!npm install -g localtunnel\n",
        "\n",
        "import subprocess\n",
        "import threading\n",
        "import time\n",
        "import socket\n",
        "import urllib.request\n",
        "\n",
        "def iframe_thread(port):\n",
        "  while True:\n",
        "      time.sleep(0.5)\n",
        "      sock = socket.socket(socket.AF_INET, socket.SOCK_STREAM)\n",
        "      result = sock.connect_ex(('127.0.0.1', port))\n",
        "      if result == 0:\n",
        "        break\n",
        "      sock.close()\n",
        "  print(\"\\nComfy finished loading, trying to launch localtunnel (if it gets stuck here localtunnel is having issues)\\n\")\n",
        "\n",
        "  print(\"The password/enpoint ip for localtunnel is:\", urllib.request.urlopen('https://ipv4.icanhazip.com').read().decode('utf8').strip(\"\\n\"))\n",
        "  p = subprocess.Popen([\"lt\", \"--port\", \"{}\".format(port)], stdout=subprocess.PIPE)\n",
        "  for line in p.stdout:\n",
        "    print(line.decode(), end='')\n",
        "\n",
        "\n",
        "threading.Thread(target=iframe_thread, daemon=True, args=(8188,)).start()\n",
        "\n",
        "!python main.py --dont-print-server"
      ]
    },
    {
      "cell_type": "markdown",
      "source": [
        "### Save images to output.zip file\n",
        "\n",
        "> Indented block\n",
        "\n",
        "\n",
        "\n",
        "\n"
      ],
      "metadata": {
        "id": "NtEIIE4vybd9"
      }
    },
    {
      "cell_type": "code",
      "source": [
        "!zip -r /content/output.zip /content/Comfy/output"
      ],
      "metadata": {
        "id": "MblIL93Bz6KP",
        "colab": {
          "base_uri": "https://localhost:8080/"
        },
        "outputId": "4b02666f-e9ab-416d-eabc-94c1cd8bba22"
      },
      "execution_count": null,
      "outputs": [
        {
          "output_type": "stream",
          "name": "stdout",
          "text": [
            "  adding: content/Comfy/output/ (stored 0%)\n",
            "  adding: content/Comfy/output/ComfyUI_00003_.png (deflated 0%)\n",
            "  adding: content/Comfy/output/ComfyUI_00008_.png (deflated 0%)\n",
            "  adding: content/Comfy/output/ComfyUI_00001_.png (deflated 0%)\n",
            "  adding: content/Comfy/output/ComfyUI_00005_.png"
          ]
        }
      ]
    },
    {
      "cell_type": "markdown",
      "metadata": {
        "id": "gggggggggg"
      },
      "source": [
        "### Run ComfyUI with colab iframe (use only in case the previous way with localtunnel doesn't work)\n",
        "\n",
        "You should see the ui appear in an iframe. If you get a 403 error, it's your firefox settings or an extension that's messing things up.\n",
        "\n",
        "If you want to open it in another window use the link.\n",
        "\n",
        "Note that some UI features like live image previews won't work because the colab iframe blocks websockets."
      ]
    },
    {
      "cell_type": "code",
      "execution_count": null,
      "metadata": {
        "id": "hhhhhhhhhh"
      },
      "outputs": [],
      "source": [
        "# import threading\n",
        "# import time\n",
        "# import socket\n",
        "# def iframe_thread(port):\n",
        "#   while True:\n",
        "#       time.sleep(0.5)\n",
        "#       sock = socket.socket(socket.AF_INET, socket.SOCK_STREAM)\n",
        "#       result = sock.connect_ex(('127.0.0.1', port))\n",
        "#       if result == 0:\n",
        "#         break\n",
        "#       sock.close()\n",
        "#   from google.colab import output\n",
        "#   output.serve_kernel_port_as_iframe(port, height=1024)\n",
        "#   print(\"to open it in a window you can open this link here:\")\n",
        "#   output.serve_kernel_port_as_window(port)\n",
        "\n",
        "# threading.Thread(target=iframe_thread, daemon=True, args=(8188,)).start()\n",
        "\n",
        "# !python main.py --dont-print-server"
      ]
    }
  ],
  "metadata": {
    "colab": {
      "provenance": [],
      "gpuType": "T4"
    },
    "kernelspec": {
      "display_name": "Python 3",
      "name": "python3"
    },
    "language_info": {
      "name": "python"
    },
    "accelerator": "GPU"
  },
  "nbformat": 4,
  "nbformat_minor": 0
}
